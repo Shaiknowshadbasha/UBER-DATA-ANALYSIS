{
 "cells": [
  {
   "cell_type": "markdown",
   "metadata": {},
   "source": [
    "1. Importing the necessary libraries + useful functions\n"
   ]
  },
  {
   "cell_type": "code",
   "execution_count": 6,
   "metadata": {},
   "outputs": [
    {
     "name": "stdout",
     "output_type": "stream",
     "text": [
      "Defaulting to user installation because normal site-packages is not writeable\n",
      "Collecting xgboost\n",
      "  Downloading xgboost-2.1.1-py3-none-win_amd64.whl.metadata (2.1 kB)\n",
      "Requirement already satisfied: numpy in c:\\users\\hp\\appdata\\roaming\\python\\python312\\site-packages (from xgboost) (1.26.4)\n",
      "Requirement already satisfied: scipy in c:\\users\\hp\\appdata\\roaming\\python\\python312\\site-packages (from xgboost) (1.13.0)\n",
      "Downloading xgboost-2.1.1-py3-none-win_amd64.whl (124.9 MB)\n",
      "   ---------------------------------------- 0.0/124.9 MB ? eta -:--:--\n",
      "   - -------------------------------------- 3.1/124.9 MB 20.5 MB/s eta 0:00:06\n",
      "   -- ------------------------------------- 7.3/124.9 MB 20.6 MB/s eta 0:00:06\n",
      "   --- ------------------------------------ 11.8/124.9 MB 20.5 MB/s eta 0:00:06\n",
      "   ---- ----------------------------------- 15.2/124.9 MB 19.9 MB/s eta 0:00:06\n",
      "   ----- ---------------------------------- 17.3/124.9 MB 17.9 MB/s eta 0:00:07\n",
      "   ------ --------------------------------- 19.9/124.9 MB 17.0 MB/s eta 0:00:07\n",
      "   ------- -------------------------------- 22.0/124.9 MB 16.0 MB/s eta 0:00:07\n",
      "   -------- ------------------------------- 25.7/124.9 MB 16.3 MB/s eta 0:00:07\n",
      "   -------- ------------------------------- 27.0/124.9 MB 16.0 MB/s eta 0:00:07\n",
      "   --------- ------------------------------ 29.9/124.9 MB 15.2 MB/s eta 0:00:07\n",
      "   ---------- ----------------------------- 31.7/124.9 MB 14.5 MB/s eta 0:00:07\n",
      "   ---------- ----------------------------- 32.5/124.9 MB 13.9 MB/s eta 0:00:07\n",
      "   ---------- ----------------------------- 33.6/124.9 MB 13.2 MB/s eta 0:00:07\n",
      "   ----------- ---------------------------- 36.4/124.9 MB 13.2 MB/s eta 0:00:07\n",
      "   ------------ --------------------------- 37.5/124.9 MB 12.6 MB/s eta 0:00:07\n",
      "   ------------ --------------------------- 40.1/124.9 MB 12.6 MB/s eta 0:00:07\n",
      "   ------------- -------------------------- 43.3/124.9 MB 12.8 MB/s eta 0:00:07\n",
      "   -------------- ------------------------- 46.4/124.9 MB 12.9 MB/s eta 0:00:07\n",
      "   --------------- ------------------------ 49.3/124.9 MB 13.0 MB/s eta 0:00:06\n",
      "   ---------------- ----------------------- 51.9/124.9 MB 13.0 MB/s eta 0:00:06\n",
      "   ----------------- ---------------------- 54.0/124.9 MB 12.9 MB/s eta 0:00:06\n",
      "   ------------------ --------------------- 57.1/124.9 MB 13.0 MB/s eta 0:00:06\n",
      "   ------------------- -------------------- 60.6/124.9 MB 13.1 MB/s eta 0:00:05\n",
      "   -------------------- ------------------- 64.7/124.9 MB 13.4 MB/s eta 0:00:05\n",
      "   --------------------- ------------------ 68.4/124.9 MB 13.6 MB/s eta 0:00:05\n",
      "   ---------------------- ----------------- 70.8/124.9 MB 13.6 MB/s eta 0:00:04\n",
      "   ----------------------- ---------------- 73.4/124.9 MB 13.6 MB/s eta 0:00:04\n",
      "   ------------------------ --------------- 76.8/124.9 MB 13.7 MB/s eta 0:00:04\n",
      "   ------------------------- -------------- 78.6/124.9 MB 13.5 MB/s eta 0:00:04\n",
      "   ------------------------- -------------- 80.5/124.9 MB 13.4 MB/s eta 0:00:04\n",
      "   -------------------------- ------------- 82.6/124.9 MB 13.4 MB/s eta 0:00:04\n",
      "   -------------------------- ------------- 83.6/124.9 MB 13.0 MB/s eta 0:00:04\n",
      "   --------------------------- ------------ 86.0/124.9 MB 13.0 MB/s eta 0:00:03\n",
      "   ---------------------------- ----------- 88.6/124.9 MB 13.0 MB/s eta 0:00:03\n",
      "   ---------------------------- ----------- 90.2/124.9 MB 12.9 MB/s eta 0:00:03\n",
      "   ------------------------------ --------- 93.8/124.9 MB 13.0 MB/s eta 0:00:03\n",
      "   ------------------------------- -------- 97.3/124.9 MB 13.1 MB/s eta 0:00:03\n",
      "   ------------------------------- -------- 99.6/124.9 MB 13.0 MB/s eta 0:00:02\n",
      "   -------------------------------- ------ 102.5/124.9 MB 13.1 MB/s eta 0:00:02\n",
      "   --------------------------------- ----- 105.9/124.9 MB 13.2 MB/s eta 0:00:02\n",
      "   --------------------------------- ----- 108.8/124.9 MB 13.2 MB/s eta 0:00:02\n",
      "   ---------------------------------- ---- 111.1/124.9 MB 13.2 MB/s eta 0:00:02\n",
      "   ----------------------------------- --- 114.0/124.9 MB 13.2 MB/s eta 0:00:01\n",
      "   ------------------------------------ -- 116.1/124.9 MB 13.1 MB/s eta 0:00:01\n",
      "   ------------------------------------ -- 117.2/124.9 MB 13.0 MB/s eta 0:00:01\n",
      "   ------------------------------------- - 119.5/124.9 MB 12.9 MB/s eta 0:00:01\n",
      "   ------------------------------------- - 120.8/124.9 MB 12.9 MB/s eta 0:00:01\n",
      "   --------------------------------------  122.2/124.9 MB 12.7 MB/s eta 0:00:01\n",
      "   --------------------------------------  124.8/124.9 MB 12.7 MB/s eta 0:00:01\n",
      "   --------------------------------------- 124.9/124.9 MB 12.4 MB/s eta 0:00:00\n",
      "Installing collected packages: xgboost\n",
      "Successfully installed xgboost-2.1.1\n"
     ]
    }
   ],
   "source": [
    "#The first step is to import all necessary libraries and include useful functions to make the code below more readable\n",
    "import warnings\n",
    "warnings.filterwarnings(\"ignore\")\n",
    "import os\n",
    "import numpy as np\n",
    "import pandas as pd\n",
    "import seaborn as sns\n",
    "!pip install xgboost\n",
    "import xgboost as xgb\n",
    "import matplotlib.pyplot as plt"
   ]
  },
  {
   "cell_type": "code",
   "execution_count": 7,
   "metadata": {},
   "outputs": [
    {
     "ename": "SyntaxError",
     "evalue": "trailing comma not allowed without surrounding parentheses (3336172545.py, line 7)",
     "output_type": "error",
     "traceback": [
      "\u001b[1;36m  Cell \u001b[1;32mIn[7], line 7\u001b[1;36m\u001b[0m\n\u001b[1;33m    from sklearn.model_selection import GridSearchCV, RandomizedSearchCV,\u001b[0m\n\u001b[1;37m                                                                         ^\u001b[0m\n\u001b[1;31mSyntaxError\u001b[0m\u001b[1;31m:\u001b[0m trailing comma not allowed without surrounding parentheses\n"
     ]
    }
   ],
   "source": [
    "\n",
    "from sklearn.model_selection import KFold\n",
    "from xgboost import plot_importance, plot_tree\n",
    "from sklearn.model_selection import train_test_split\n",
    "from statsmodels.tsa.seasonal import seasonal_decompose\n",
    "from sklearn.metrics import mean_absolute_percentage_error\n",
    "from sklearn.ensemble import RandomForestRegressor, GradientBoostingRegressor\n",
    "from sklearn.model_selection import GridSearchCV, RandomizedSearchCV,\n",
    "TimeSeriesSplit"
   ]
  },
  {
   "cell_type": "code",
   "execution_count": null,
   "metadata": {},
   "outputs": [],
   "source": []
  }
 ],
 "metadata": {
  "kernelspec": {
   "display_name": "Python 3",
   "language": "python",
   "name": "python3"
  },
  "language_info": {
   "codemirror_mode": {
    "name": "ipython",
    "version": 3
   },
   "file_extension": ".py",
   "mimetype": "text/x-python",
   "name": "python",
   "nbconvert_exporter": "python",
   "pygments_lexer": "ipython3",
   "version": "3.12.2"
  }
 },
 "nbformat": 4,
 "nbformat_minor": 2
}
